{
 "cells": [
  {
   "cell_type": "code",
   "execution_count": 1,
   "metadata": {},
   "outputs": [],
   "source": [
    "import os"
   ]
  },
  {
   "cell_type": "code",
   "execution_count": 2,
   "metadata": {},
   "outputs": [
    {
     "name": "stderr",
     "output_type": "stream",
     "text": [
      "/home/calm04/miniconda3/envs/sheeprl/lib/python3.10/site-packages/glfw/__init__.py:914: GLFWError: (65544) b'X11: The DISPLAY environment variable is missing'\n",
      "  warnings.warn(message, GLFWError)\n"
     ]
    }
   ],
   "source": [
    "import copy\n",
    "import pathlib\n",
    "\n",
    "import gymnasium as gym\n",
    "import numpy as np\n",
    "import torch\n",
    "import torchvision\n",
    "from lightning.fabric import Fabric\n",
    "from omegaconf import OmegaConf\n",
    "from PIL import Image\n",
    "\n",
    "from sheeprl.algos.dreamer_v3.agent import build_agent\n",
    "from sheeprl.data.buffers import SequentialReplayBuffer\n",
    "from sheeprl.utils.env import make_env\n",
    "from sheeprl.utils.utils import dotdict\n",
    "from sheeprl.algos.p2e_dv3_ppo.agent import build_agent\n",
    "from sheeprl.algos.p2e_dv3_ppo.agent import PPOAgent\n",
    "from sheeprl.algos.dreamer_v3.utils import Moments, compute_lambda_values, prepare_obs, test\n",
    "from datetime import datetime"
   ]
  },
  {
   "cell_type": "code",
   "execution_count": 3,
   "metadata": {},
   "outputs": [],
   "source": [
    "import os\n",
    "import warnings\n",
    "from typing import Any, Callable, Dict, Optional\n",
    "\n",
    "import cv2\n",
    "import gymnasium as gym\n",
    "import hydra\n",
    "import numpy as np\n",
    "\n",
    "from sheeprl.envs.wrappers import (\n",
    "    ActionRepeat,\n",
    "    ActionsAsObservationWrapper,\n",
    "    FrameStack,\n",
    "    GrayscaleRenderWrapper,\n",
    "    MaskVelocityWrapper,\n",
    "    RewardAsObservationWrapper,\n",
    ")\n",
    "from sheeprl.utils.imports import _IS_DIAMBRA_ARENA_AVAILABLE, _IS_DIAMBRA_AVAILABLE, _IS_DMC_AVAILABLE\n",
    "\n",
    "if _IS_DIAMBRA_ARENA_AVAILABLE and _IS_DIAMBRA_AVAILABLE:\n",
    "    from sheeprl.envs.diambra import DiambraWrapper\n",
    "if _IS_DMC_AVAILABLE:\n",
    "    pass"
   ]
  },
  {
   "cell_type": "code",
   "execution_count": 4,
   "metadata": {},
   "outputs": [],
   "source": [
    "ckpt_path = \"/home/calm04/data/sheeprl/logs/runs/p2e_dv3_exploration_ppo/MsPacman-v4/2024-08-11_19-02-55_p2e_dv3_exploration_ppo_MsPacman-v4_42/version_0/checkpoint/ckpt_40448_0.ckpt\"\n",
    "ckpt_path = pathlib.Path(ckpt_path)"
   ]
  },
  {
   "cell_type": "code",
   "execution_count": 5,
   "metadata": {},
   "outputs": [
    {
     "name": "stderr",
     "output_type": "stream",
     "text": [
      "/home/calm04/miniconda3/envs/sheeprl/lib/python3.10/site-packages/lightning/fabric/utilities/cloud_io.py:57: You are using `torch.load` with `weights_only=False` (the current default value), which uses the default pickle module implicitly. It is possible to construct malicious pickle data which will execute arbitrary code during unpickling (See https://github.com/pytorch/pytorch/blob/main/SECURITY.md#untrusted-models for more details). In a future release, the default value for `weights_only` will be flipped to `True`. This limits the functions that could be executed during unpickling. Arbitrary objects will no longer be allowed to be loaded via this mode unless they are explicitly allowlisted by the user via `torch.serialization.add_safe_globals`. We recommend you start setting `weights_only=True` for any use case where you don't have full control of the loaded file. Please open an issue on GitHub for any issues related to this experimental feature.\n"
     ]
    }
   ],
   "source": [
    "seed = 5\n",
    "fabric = Fabric(accelerator=\"cuda\", devices=1)\n",
    "fabric.launch()\n",
    "state = fabric.load(ckpt_path)\n",
    "cfg = dotdict(OmegaConf.to_container(OmegaConf.load(ckpt_path.parent.parent / \"config.yaml\"), resolve=True))\n",
    "\n",
    "# The number of environments is set to 1\n",
    "cfg.env.num_envs = 1"
   ]
  },
  {
   "cell_type": "code",
   "execution_count": 6,
   "metadata": {},
   "outputs": [],
   "source": [
    "cfg.checkpoint.resume_from = True"
   ]
  },
  {
   "cell_type": "code",
   "execution_count": 7,
   "metadata": {},
   "outputs": [],
   "source": [
    "from gym.wrappers import RecordVideo\n",
    "from gym.wrappers.monitoring.video_recorder import VideoRecorder"
   ]
  },
  {
   "cell_type": "code",
   "execution_count": 8,
   "metadata": {},
   "outputs": [],
   "source": [
    "from gym.wrappers import RecordVideo\n",
    "\n",
    "class CustomRecordVideo(RecordVideo):\n",
    "    def close(self):\n",
    "        \n",
    "        if self.video_recorder is not None and not self.video_recorder.functional:\n",
    "            self.video_recorder.close()\n",
    "            self.video_recorder = None\n",
    "        super().close()"
   ]
  },
  {
   "cell_type": "code",
   "execution_count": 9,
   "metadata": {},
   "outputs": [],
   "source": [
    "def make_env(\n",
    "    cfg: Dict[str, Any],\n",
    "    seed: int,\n",
    "    rank: int,\n",
    "    run_name: Optional[str] = None,\n",
    "    prefix: str = \"\",\n",
    "    vector_env_idx: int = 0,\n",
    ") -> Callable[[], gym.Env]:\n",
    "    \"\"\"\n",
    "    Create the callable function to create environment and\n",
    "    force the environment to return an observation space of type\n",
    "    gymnasium.spaces.Dict.\n",
    "\n",
    "    Args:\n",
    "        cfg (Dict[str, Any]): the configs of the environment to initialize.\n",
    "        seed (int): the seed to use.\n",
    "        rank (int): the rank of the process.\n",
    "        run_name (str, optional): the name of the run.\n",
    "            Default to None.\n",
    "        prefix (str): the prefix to add to the video folder.\n",
    "            Default to \"\".\n",
    "        vector_env_idx (int): the index of the environment.\n",
    "\n",
    "    Returns:\n",
    "        The callable function that initializes the environment.\n",
    "    \"\"\"\n",
    "\n",
    "    def thunk() -> gym.Env:\n",
    "        try:\n",
    "            env_spec = gym.spec(cfg.env.id).entry_point\n",
    "        except Exception:\n",
    "            env_spec = \"\"\n",
    "\n",
    "        if \"diambra\" in cfg.env.wrapper._target_ and not cfg.env.sync_env:\n",
    "            if cfg.env.wrapper.diambra_settings.pop(\"splash_screen\", True):\n",
    "                warnings.warn(\n",
    "                    \"You must set the `splash_screen` setting to `False` when using the `AsyncVectorEnv` \"\n",
    "                    \"in `DIAMBRA` environments. The specified `splash_screen` setting is ignored and set \"\n",
    "                    \"to `False`.\"\n",
    "                )\n",
    "            cfg.env.wrapper.diambra_settings.splash_screen = False\n",
    "\n",
    "        instantiate_kwargs = {}\n",
    "        if \"seed\" in cfg.env.wrapper:\n",
    "            instantiate_kwargs[\"seed\"] = seed\n",
    "        if \"rank\" in cfg.env.wrapper:\n",
    "            instantiate_kwargs[\"rank\"] = rank + vector_env_idx\n",
    "        if \"unity_env\" in cfg.env.wrapper._target_:\n",
    "            env = hydra.utils.instantiate(cfg.env.wrapper, **instantiate_kwargs, _convert_=\"all\", env_num_id=vector_env_idx)\n",
    "        else:\n",
    "            env = hydra.utils.instantiate(cfg.env.wrapper, **instantiate_kwargs, _convert_=\"all\")\n",
    "\n",
    "\n",
    "        # action repeat\n",
    "        if (\n",
    "            cfg.env.action_repeat > 1\n",
    "            and \"atari\" not in env_spec\n",
    "            and (not (_IS_DIAMBRA_ARENA_AVAILABLE and _IS_DIAMBRA_AVAILABLE) or not isinstance(env, DiambraWrapper))\n",
    "        ):\n",
    "            env = ActionRepeat(env, cfg.env.action_repeat)\n",
    "\n",
    "        if \"mask_velocities\" in cfg.env and cfg.env.mask_velocities:\n",
    "            env = MaskVelocityWrapper(env)\n",
    "\n",
    "        if not (\n",
    "            isinstance(cfg.algo.mlp_keys.encoder, list)\n",
    "            and isinstance(cfg.algo.cnn_keys.encoder, list)\n",
    "            and len(cfg.algo.cnn_keys.encoder + cfg.algo.mlp_keys.encoder) > 0\n",
    "        ):\n",
    "            raise ValueError(\n",
    "                \"`algo.cnn_keys.encoder` and `algo.mlp_keys.encoder` must be lists of strings, got: \"\n",
    "                f\"cnn encoder keys `{cfg.algo.cnn_keys.encoder}` of type `{type(cfg.algo.cnn_keys.encoder)}` \"\n",
    "                f\"and mlp encoder keys `{cfg.algo.mlp_keys.encoder}` of type `{type(cfg.algo.mlp_keys.encoder)}`. \"\n",
    "                \"Both must be non-empty lists.\"\n",
    "            )\n",
    "\n",
    "        # Create observation dict\n",
    "        encoder_cnn_keys_length = len(cfg.algo.cnn_keys.encoder)\n",
    "        encoder_mlp_keys_length = len(cfg.algo.mlp_keys.encoder)\n",
    "        if isinstance(env.observation_space, gym.spaces.Box) and len(env.observation_space.shape) < 2:\n",
    "            # Vector only observation\n",
    "            if encoder_cnn_keys_length > 0:\n",
    "                if encoder_cnn_keys_length > 1:\n",
    "                    warnings.warn(\n",
    "                        \"Multiple cnn keys have been specified and only one pixel observation \"\n",
    "                        f\"is allowed in {cfg.env.id}, \"\n",
    "                        f\"only the first one is kept: {cfg.algo.cnn_keys.encoder[0]}\"\n",
    "                    )\n",
    "                if encoder_mlp_keys_length > 0:\n",
    "                    gym.wrappers.pixel_observation.STATE_KEY = cfg.algo.mlp_keys.encoder[0]\n",
    "                env = gym.wrappers.PixelObservationWrapper(\n",
    "                    env, pixels_only=encoder_mlp_keys_length == 0, pixel_keys=(cfg.algo.cnn_keys.encoder[0],)\n",
    "                )\n",
    "            else:\n",
    "                if encoder_mlp_keys_length > 1:\n",
    "                    warnings.warn(\n",
    "                        \"Multiple mlp keys have been specified and only one pixel observation \"\n",
    "                        f\"is allowed in {cfg.env.id}, \"\n",
    "                        f\"only the first one is kept: {cfg.algo.mlp_keys.encoder[0]}\"\n",
    "                    )\n",
    "                mlp_key = cfg.algo.mlp_keys.encoder[0]\n",
    "                env = gym.wrappers.TransformObservation(env, lambda obs: {mlp_key: obs})\n",
    "                env.observation_space = gym.spaces.Dict({mlp_key: env.observation_space})\n",
    "        elif isinstance(env.observation_space, gym.spaces.Box) and 2 <= len(env.observation_space.shape) <= 3:\n",
    "            # Pixel only observation\n",
    "            if encoder_cnn_keys_length > 1:\n",
    "                warnings.warn(\n",
    "                    \"Multiple cnn keys have been specified and only one pixel observation \"\n",
    "                    f\"is allowed in {cfg.env.id}, \"\n",
    "                    f\"only the first one is kept: {cfg.algo.cnn_keys.encoder[0]}\"\n",
    "                )\n",
    "            elif encoder_cnn_keys_length == 0:\n",
    "                raise ValueError(\n",
    "                    \"You have selected a pixel observation but no cnn key has been specified. \"\n",
    "                    \"Please set at least one cnn key in the config file: `algo.cnn_keys.encoder=[your_cnn_key]`\"\n",
    "                )\n",
    "            cnn_key = cfg.algo.cnn_keys.encoder[0]\n",
    "            env = gym.wrappers.TransformObservation(env, lambda obs: {cnn_key: obs})\n",
    "            env.observation_space = gym.spaces.Dict({cnn_key: env.observation_space})\n",
    "\n",
    "        if (\n",
    "            len(\n",
    "                set(k for k in env.observation_space.keys()).intersection(\n",
    "                    set(cfg.algo.mlp_keys.encoder + cfg.algo.cnn_keys.encoder)\n",
    "                )\n",
    "            )\n",
    "            == 0\n",
    "        ):\n",
    "            raise ValueError(\n",
    "                f\"The user specified keys `{cfg.algo.mlp_keys.encoder + cfg.algo.cnn_keys.encoder}` \"\n",
    "                \"are not a subset of the \"\n",
    "                f\"environment `{env.observation_space.keys()}` observation keys. Please check your config file.\"\n",
    "            )\n",
    "\n",
    "        env_cnn_keys = set(\n",
    "            [k for k in env.observation_space.spaces.keys() if len(env.observation_space[k].shape) in {2, 3}]\n",
    "        )\n",
    "        cnn_keys = env_cnn_keys.intersection(set(cfg.algo.cnn_keys.encoder))\n",
    "\n",
    "        def transform_obs(obs: Dict[str, Any]):\n",
    "            for k in cnn_keys:\n",
    "                current_obs = obs[k]\n",
    "                shape = current_obs.shape\n",
    "                is_3d = len(shape) == 3\n",
    "                is_grayscale = not is_3d or shape[0] == 1 or shape[-1] == 1\n",
    "                channel_first = not is_3d or shape[0] in (1, 3)\n",
    "\n",
    "                # to 3D image\n",
    "                if not is_3d:\n",
    "                    current_obs = np.expand_dims(current_obs, axis=0)\n",
    "\n",
    "                # channel last (opencv needs it)\n",
    "                if channel_first:\n",
    "                    current_obs = np.transpose(current_obs, (1, 2, 0))\n",
    "\n",
    "                # resize\n",
    "                if current_obs.shape[:-1] != (cfg.env.screen_size, cfg.env.screen_size):\n",
    "                    current_obs = cv2.resize(\n",
    "                        current_obs, (cfg.env.screen_size, cfg.env.screen_size), interpolation=cv2.INTER_AREA\n",
    "                    )\n",
    "\n",
    "                # to grayscale\n",
    "                if cfg.env.grayscale and not is_grayscale:\n",
    "                    current_obs = cv2.cvtColor(current_obs, cv2.COLOR_RGB2GRAY)\n",
    "\n",
    "                # back to 3D\n",
    "                if len(current_obs.shape) == 2:\n",
    "                    current_obs = np.expand_dims(current_obs, axis=-1)\n",
    "                    if not cfg.env.grayscale:\n",
    "                        current_obs = np.repeat(current_obs, 3, axis=-1)\n",
    "\n",
    "                # channel first (PyTorch default)\n",
    "                obs[k] = current_obs.transpose(2, 0, 1)\n",
    "\n",
    "            return obs\n",
    "\n",
    "        env = gym.wrappers.TransformObservation(env, transform_obs)\n",
    "        for k in cnn_keys:\n",
    "            env.observation_space[k] = gym.spaces.Box(\n",
    "                0, 255, (1 if cfg.env.grayscale else 3, cfg.env.screen_size, cfg.env.screen_size), np.uint8\n",
    "            )\n",
    "\n",
    "        if cnn_keys is not None and len(cnn_keys) > 0 and cfg.env.frame_stack > 1:\n",
    "            if cfg.env.frame_stack_dilation <= 0:\n",
    "                raise ValueError(\n",
    "                    f\"The frame stack dilation argument must be greater than zero, got: {cfg.env.frame_stack_dilation}\"\n",
    "                )\n",
    "            env = FrameStack(env, cfg.env.frame_stack, cnn_keys, cfg.env.frame_stack_dilation)\n",
    "\n",
    "        if cfg.env.actions_as_observation.num_stack > 0 and \"diambra\" not in cfg.env.wrapper._target_:\n",
    "            env = ActionsAsObservationWrapper(env, **cfg.env.actions_as_observation)\n",
    "\n",
    "        if cfg.env.reward_as_observation:\n",
    "            env = RewardAsObservationWrapper(env)\n",
    "\n",
    "        env.action_space.seed(seed)\n",
    "        env.observation_space.seed(seed)\n",
    "        if cfg.env.max_episode_steps and cfg.env.max_episode_steps > 0:\n",
    "            env = gym.wrappers.TimeLimit(env, max_episode_steps=cfg.env.max_episode_steps)\n",
    "        env = gym.wrappers.RecordEpisodeStatistics(env)\n",
    "        if cfg.env.capture_video and rank == 0 and vector_env_idx == 0 and run_name is not None:\n",
    "            if cfg.env.grayscale:\n",
    "                env = GrayscaleRenderWrapper(env)\n",
    "            env = CustomRecordVideo(env, video_folder=\"./videos\",\n",
    "                                    name_prefix=f\"episode_{seed}\",\n",
    "                                    )\n",
    "\n",
    "            # Atari 환경에 대한 기본 FPS 설정\n",
    "            if \"AtariEnv\" in str(type(env.unwrapped)):\n",
    "                env.metadata[\"render_fps\"] = cfg.env.get(\"atari_fps\", 60)  # 기본값 60 또는 설정에서 가져온 값\n",
    "            elif hasattr(env, 'frames_per_sec'):\n",
    "                env.metadata[\"render_fps\"] = env.frames_per_sec\n",
    "            else:\n",
    "                env.metadata[\"render_fps\"] = cfg.env.get(\"default_fps\", 30)  # 기본값 30 또는 설정에서 가져온 값\n",
    "        return env\n",
    "\n",
    "    return thunk"
   ]
  },
  {
   "cell_type": "code",
   "execution_count": 10,
   "metadata": {},
   "outputs": [
    {
     "name": "stderr",
     "output_type": "stream",
     "text": [
      "A.L.E: Arcade Learning Environment (version 0.8.1+53f58b7)\n",
      "[Powered by Stella]\n",
      "/home/calm04/miniconda3/envs/sheeprl/lib/python3.10/site-packages/gym/wrappers/record_video.py:75: UserWarning: \u001b[33mWARN: Overwriting existing videos at /media/hdd2/calm04/sheeprl/videos folder (try specifying a different `video_folder` for the `RecordVideo` wrapper if this is not desired)\u001b[0m\n",
      "  logger.warn(\n"
     ]
    }
   ],
   "source": [
    "envs = gym.vector.SyncVectorEnv(\n",
    "    [\n",
    "        make_env(\n",
    "            cfg,\n",
    "            cfg.seed + 0 * cfg.env.num_envs + i,\n",
    "            0 * cfg.env.num_envs,\n",
    "            \"./imagination\",\n",
    "            \"imagination\",\n",
    "            vector_env_idx=i,\n",
    "        )\n",
    "        for i in range(cfg.env.num_envs)\n",
    "    ]\n",
    ")\n",
    "action_space = envs.single_action_space\n",
    "observation_space = envs.single_observation_space\n",
    "obs_keys = cfg.algo.cnn_keys.encoder + cfg.algo.mlp_keys.encoder"
   ]
  },
  {
   "cell_type": "code",
   "execution_count": 11,
   "metadata": {},
   "outputs": [],
   "source": [
    "is_continuous = isinstance(action_space, gym.spaces.Box)\n",
    "is_multidiscrete = isinstance(action_space, gym.spaces.MultiDiscrete)\n",
    "actions_dim = tuple( \n",
    "    action_space.shape if is_continuous else (action_space.nvec.tolist() if is_multidiscrete else [action_space.n])\n",
    ")"
   ]
  },
  {
   "cell_type": "code",
   "execution_count": 12,
   "metadata": {},
   "outputs": [
    {
     "data": {
      "text/plain": [
       "odict_keys(['actor.model._model.0.weight', 'actor.model._model.1.weight', 'actor.model._model.1.bias', 'actor.model._model.3.weight', 'actor.model._model.4.weight', 'actor.model._model.4.bias', 'actor.model._model.6.weight', 'actor.model._model.7.weight', 'actor.model._model.7.bias', 'actor.model._model.9.weight', 'actor.model._model.10.weight', 'actor.model._model.10.bias', 'actor.model._model.12.weight', 'actor.model._model.13.weight', 'actor.model._model.13.bias', 'actor.mlp_heads.0.weight', 'actor.mlp_heads.0.bias', 'critic._model.0.weight', 'critic._model.0.bias', 'critic._model.1.weight', 'critic._model.1.bias', 'critic._model.3.weight', 'critic._model.3.bias', 'critic._model.4.weight', 'critic._model.4.bias', 'critic._model.6.weight', 'critic._model.6.bias', 'critic._model.7.weight', 'critic._model.7.bias', 'critic._model.9.weight', 'critic._model.9.bias', 'critic._model.10.weight', 'critic._model.10.bias', 'critic._model.12.weight', 'critic._model.12.bias', 'critic._model.13.weight', 'critic._model.13.bias', 'critic._model.15.weight', 'critic._model.15.bias'])"
      ]
     },
     "execution_count": 12,
     "metadata": {},
     "output_type": "execute_result"
    }
   ],
   "source": [
    "state['actor_task'].keys()"
   ]
  },
  {
   "cell_type": "code",
   "execution_count": 13,
   "metadata": {},
   "outputs": [
    {
     "name": "stderr",
     "output_type": "stream",
     "text": [
      "INFO:pytorch_lightning.utilities.rank_zero:Fabric will use only 1 of 2 GPUs because it is running inside an interactive / notebook environment. You may try to set `Fabric(devices=2)` but please note that multi-GPU inside interactive / notebook environments is considered experimental and unstable. Your mileage may vary.\n",
      "INFO:pytorch_lightning.utilities.rank_zero:Fabric will use only 1 of 2 GPUs because it is running inside an interactive / notebook environment. You may try to set `Fabric(devices=2)` but please note that multi-GPU inside interactive / notebook environments is considered experimental and unstable. Your mileage may vary.\n",
      "INFO: Seed set to 42\n",
      "INFO:lightning.fabric.utilities.seed:Seed set to 42\n",
      "INFO: Seed set to 43\n",
      "INFO:lightning.fabric.utilities.seed:Seed set to 43\n",
      "INFO: Seed set to 44\n",
      "INFO:lightning.fabric.utilities.seed:Seed set to 44\n",
      "INFO: Seed set to 45\n",
      "INFO:lightning.fabric.utilities.seed:Seed set to 45\n"
     ]
    }
   ],
   "source": [
    "(\n",
    "    world_model,\n",
    "    ensembles,\n",
    "    ppo_agent,\n",
    "    player,\n",
    ") = build_agent(\n",
    "    fabric,\n",
    "    actions_dim,\n",
    "    is_continuous,\n",
    "    cfg,\n",
    "    observation_space,\n",
    "    state[\"world_model\"] if cfg.checkpoint.resume_from else None,\n",
    "    state[\"ensembles\"] if cfg.checkpoint.resume_from else None,\n",
    "    state[\"actor_task\"] if cfg.checkpoint.resume_from else None,\n",
    ")"
   ]
  },
  {
   "cell_type": "code",
   "execution_count": 14,
   "metadata": {},
   "outputs": [],
   "source": [
    "# 환경 초기화\n",
    "obs, _ = envs.reset(seed=seed)"
   ]
  },
  {
   "cell_type": "code",
   "execution_count": 15,
   "metadata": {},
   "outputs": [],
   "source": [
    "step_data = {}\n",
    "for k in obs_keys:\n",
    "    step_data[k] = obs[k][np.newaxis]\n",
    "player.init_states()"
   ]
  },
  {
   "cell_type": "code",
   "execution_count": 16,
   "metadata": {},
   "outputs": [],
   "source": [
    "# # 환경 초기화\n",
    "# obs, _ = envs.reset(seed=seed)\n",
    "\n",
    "# # Inference 루프\n",
    "# total_reward = 0\n",
    "# done = False\n",
    "# episode_length = 0\n",
    "\n",
    "# while not done:\n",
    "#     with torch.no_grad():\n",
    "#         # 관찰을 준비\n",
    "#         torch_obs = prepare_obs(fabric, obs, cnn_keys=cfg.algo.cnn_keys.encoder, num_envs=cfg.env.num_envs)\n",
    "#         mask = {k: v for k, v in torch_obs.items() if k.startswith(\"mask\")}\n",
    "#         if len(mask) == 0:\n",
    "#             mask = None\n",
    "        \n",
    "#         # 액션 선택\n",
    "#         real_actions = actions = player.get_actions(torch_obs, mask=mask)\n",
    "#         actions = torch.cat(actions, -1).cpu().numpy()\n",
    "#         if is_continuous:\n",
    "#             real_actions = torch.stack(real_actions, dim=-1).cpu().numpy()\n",
    "#         else:\n",
    "#             real_actions = torch.stack([real_act.argmax(dim=-1) for real_act in real_actions], dim=-1).cpu().numpy()\n",
    "\n",
    "#         # 환경 스텝 실행\n",
    "#         next_obs, reward, terminated, truncated, info = envs.step(real_actions.reshape(envs.action_space.shape))\n",
    "        \n",
    "#         total_reward += reward[0]  # 단일 환경이므로 첫 번째 요소만 사용\n",
    "#         episode_length += 1\n",
    "        \n",
    "#         # 종료 조건 확인\n",
    "#         done = terminated[0] or truncated[0]\n",
    "        \n",
    "#         # 다음 스텝을 위해 obs 업데이트\n",
    "#         obs = next_obs\n",
    "\n",
    "# print(f\"Episode finished. Total reward: {total_reward}, Length: {episode_length}\")\n",
    "\n",
    "# envs.close()"
   ]
  },
  {
   "cell_type": "code",
   "execution_count": 17,
   "metadata": {},
   "outputs": [
    {
     "name": "stdout",
     "output_type": "stream",
     "text": [
      "Moviepy - Building video /media/hdd2/calm04/sheeprl/videos/episode_42-episode-0.mp4.\n",
      "Moviepy - Writing video /media/hdd2/calm04/sheeprl/videos/episode_42-episode-0.mp4\n",
      "\n"
     ]
    },
    {
     "name": "stderr",
     "output_type": "stream",
     "text": [
      "                                                                \r"
     ]
    },
    {
     "name": "stdout",
     "output_type": "stream",
     "text": [
      "Moviepy - Done !\n",
      "Moviepy - video ready /media/hdd2/calm04/sheeprl/videos/episode_42-episode-0.mp4\n",
      "Moviepy - Building video /media/hdd2/calm04/sheeprl/videos/episode_42-episode-1.mp4.\n",
      "Moviepy - Writing video /media/hdd2/calm04/sheeprl/videos/episode_42-episode-1.mp4\n",
      "\n"
     ]
    },
    {
     "name": "stderr",
     "output_type": "stream",
     "text": [
      "                                                  \r"
     ]
    },
    {
     "name": "stdout",
     "output_type": "stream",
     "text": [
      "Moviepy - Done !\n",
      "Moviepy - video ready /media/hdd2/calm04/sheeprl/videos/episode_42-episode-1.mp4\n"
     ]
    }
   ],
   "source": [
    "import torch\n",
    "import torchvision.transforms.functional as TF\n",
    "from PIL import Image\n",
    "\n",
    "# 환경 초기화\n",
    "obs, _ = envs.reset(seed=seed)\n",
    "\n",
    "# Inference 루프\n",
    "total_reward = 0\n",
    "done = False\n",
    "episode_length = 0\n",
    "frames = []  # GIF를 만들기 위한 프레임 리스트\n",
    "\n",
    "while not done:\n",
    "    with torch.no_grad():\n",
    "        # 관찰을 준비\n",
    "        torch_obs = prepare_obs(fabric, obs, cnn_keys=cfg.algo.cnn_keys.encoder, num_envs=cfg.env.num_envs)\n",
    "        mask = {k: v for k, v in torch_obs.items() if k.startswith(\"mask\")}\n",
    "        if len(mask) == 0:\n",
    "            mask = None\n",
    "        \n",
    "        embedded_obs = player.encoder(torch_obs)\n",
    "        recurrent_state = player.rssm.recurrent_model(\n",
    "            torch.cat((player.stochastic_state, player.actions), -1), player.recurrent_state\n",
    "        )\n",
    "        _, stochastic_state = player.rssm._representation(recurrent_state, embedded_obs)\n",
    "        stochastic_state = stochastic_state.view(\n",
    "            *stochastic_state.shape[:-2], player.stochastic_size * player.discrete_size\n",
    "        )\n",
    "        \n",
    "        # `latent_state`는 `stochastic_state`와 `recurrent_state`의 결합\n",
    "        latent_state = torch.cat((stochastic_state, recurrent_state), -1)\n",
    "        \n",
    "        # 잠재 상태를 사용하여 이미지 재구성\n",
    "        reconstructed_obs = world_model.observation_model(latent_state)\n",
    "        # reconstructed_img = torch.clamp(reconstructed_obs['rgb'][0], 0, 1).squeeze(0)\n",
    "        reconstructed_img = torch.clamp(reconstructed_obs['rgb'][0] + 0.5, 0, 1).squeeze(0)        \n",
    "        frames.append(TF.to_pil_image(reconstructed_img))\n",
    "        \n",
    "        real_actions = actions = player.get_actions(torch_obs, mask=mask)\n",
    "        actions = torch.cat(actions, -1).cpu().numpy()\n",
    "        if is_continuous:\n",
    "            real_actions = torch.stack(real_actions, dim=-1).cpu().numpy()\n",
    "        else:\n",
    "            real_actions = torch.stack([real_act.argmax(dim=-1) for real_act in real_actions], dim=-1).cpu().numpy()\n",
    "            \n",
    "        next_obs, reward, terminated, truncated, info = envs.step(real_actions.reshape(envs.action_space.shape))\n",
    "        \n",
    "        total_reward += reward[0]  # 단일 환경이므로 첫 번째 요소만 사용\n",
    "        episode_length += 1\n",
    "        \n",
    "        # 종료 조건 확인\n",
    "        done = terminated[0] or truncated[0]\n",
    "        \n",
    "        # 다음 스텝을 위해 obs 업데이트\n",
    "        obs = next_obs\n",
    "\n",
    "envs.close()\n",
    "\n",
    "# GIF로 저장\n",
    "frame_one = frames[0]\n",
    "frame_one.save(\"reconstructed_obs.gif\", format=\"GIF\", append_images=frames, save_all=True, duration=100, loop=0)"
   ]
  },
  {
   "cell_type": "code",
   "execution_count": 18,
   "metadata": {},
   "outputs": [
    {
     "name": "stderr",
     "output_type": "stream",
     "text": [
      "Error: no \"view\" rule for type \"image/png\" passed its test case\n",
      "       (for more information, add \"--debug=1\" on the command line)\n",
      "Loading \"original-fs\" failed\n",
      "Error: Cannot find module 'original-fs'\n",
      "Require stack:\n",
      "- /home/calm04/.vscode-server/cli/servers/Stable-eaa41d57266683296de7d118f574d0c2652e1fc4/server/out/server-cli.js\n",
      "\u001b[90m    at Module._resolveFilename (node:internal/modules/cjs/loader:1145:15)\u001b[39m\n",
      "\u001b[90m    at Module._load (node:internal/modules/cjs/loader:986:27)\u001b[39m\n",
      "\u001b[90m    at Module.require (node:internal/modules/cjs/loader:1233:19)\u001b[39m\n",
      "\u001b[90m    at require (node:internal/modules/helpers:179:18)\u001b[39m\n",
      "    at i (/home/calm04/.vscode-server/cli/servers/Stable-eaa41d57266683296de7d118f574d0c2652e1fc4/server/out/server-cli.js:3:98)\n",
      "    at r.load (/home/calm04/.vscode-server/cli/servers/Stable-eaa41d57266683296de7d118f574d0c2652e1fc4/server/out/server-cli.js:2:1637)\n",
      "    at h.load (/home/calm04/.vscode-server/cli/servers/Stable-eaa41d57266683296de7d118f574d0c2652e1fc4/server/out/server-cli.js:1:13958)\n",
      "    at u (/home/calm04/.vscode-server/cli/servers/Stable-eaa41d57266683296de7d118f574d0c2652e1fc4/server/out/server-cli.js:3:9338)\n",
      "    at Object.errorback (/home/calm04/.vscode-server/cli/servers/Stable-eaa41d57266683296de7d118f574d0c2652e1fc4/server/out/server-cli.js:3:9457)\n",
      "    at h.triggerErrorback (/home/calm04/.vscode-server/cli/servers/Stable-eaa41d57266683296de7d118f574d0c2652e1fc4/server/out/server-cli.js:1:14252)\n",
      "    at /home/calm04/.vscode-server/cli/servers/Stable-eaa41d57266683296de7d118f574d0c2652e1fc4/server/out/server-cli.js:1:14003\n",
      "    at r.load (/home/calm04/.vscode-server/cli/servers/Stable-eaa41d57266683296de7d118f574d0c2652e1fc4/server/out/server-cli.js:2:1654)\n",
      "    at h.load (/home/calm04/.vscode-server/cli/servers/Stable-eaa41d57266683296de7d118f574d0c2652e1fc4/server/out/server-cli.js:1:13958)\n",
      "    at u (/home/calm04/.vscode-server/cli/servers/Stable-eaa41d57266683296de7d118f574d0c2652e1fc4/server/out/server-cli.js:3:9338)\n",
      "    at l._loadModule (/home/calm04/.vscode-server/cli/servers/Stable-eaa41d57266683296de7d118f574d0c2652e1fc4/server/out/server-cli.js:3:9466)\n",
      "    at l._resolve (/home/calm04/.vscode-server/cli/servers/Stable-eaa41d57266683296de7d118f574d0c2652e1fc4/server/out/server-cli.js:4:452)\n",
      "    at l.defineModule (/home/calm04/.vscode-server/cli/servers/Stable-eaa41d57266683296de7d118f574d0c2652e1fc4/server/out/server-cli.js:3:5561)\n",
      "    at Function.p [as define] (/home/calm04/.vscode-server/cli/servers/Stable-eaa41d57266683296de7d118f574d0c2652e1fc4/server/out/server-cli.js:4:1741)\n",
      "    at out-build/bootstrap-amd.js (/home/calm04/.vscode-server/cli/servers/Stable-eaa41d57266683296de7d118f574d0c2652e1fc4/server/out/server-cli.js:4:6445)\n",
      "    at /home/calm04/.vscode-server/cli/servers/Stable-eaa41d57266683296de7d118f574d0c2652e1fc4/server/out/server-cli.js:1:132\n",
      "    at Object.<anonymous> (/home/calm04/.vscode-server/cli/servers/Stable-eaa41d57266683296de7d118f574d0c2652e1fc4/server/out/server-cli.js:4:9653)\n",
      "\u001b[90m    at Module._compile (node:internal/modules/cjs/loader:1358:14)\u001b[39m\n",
      "\u001b[90m    at Module._extensions..js (node:internal/modules/cjs/loader:1416:10)\u001b[39m\n",
      "\u001b[90m    at Module.load (node:internal/modules/cjs/loader:1208:32)\u001b[39m\n",
      "\u001b[90m    at Module._load (node:internal/modules/cjs/loader:1024:12)\u001b[39m\n",
      "\u001b[90m    at Function.executeUserEntryPoint [as runMain] (node:internal/modules/run_main:174:12)\u001b[39m\n",
      "\u001b[90m    at node:internal/main/run_main_module:28:49\u001b[39m {\n",
      "  code: \u001b[32m'MODULE_NOT_FOUND'\u001b[39m,\n",
      "  requireStack: [\n",
      "    \u001b[32m'/home/calm04/.vscode-server/cli/servers/Stable-eaa41d57266683296de7d118f574d0c2652e1fc4/server/out/server-cli.js'\u001b[39m\n",
      "  ],\n",
      "  phase: \u001b[32m'loading'\u001b[39m,\n",
      "  moduleId: \u001b[32m'original-fs'\u001b[39m,\n",
      "  neededBy: [ \u001b[32m'fs'\u001b[39m ]\n",
      "}\n",
      "Here are the modules that depend on it:\n",
      "[ \u001b[32m'fs'\u001b[39m ]\n"
     ]
    },
    {
     "data": {
      "image/png": "[encoded data removed]",
      "text/plain": [
       "<Figure size 1500x500 with 3 Axes>"
      ]
     },
     "metadata": {},
     "output_type": "display_data"
    }
   ],
   "source": [
    "import matplotlib.pyplot as plt\n",
    "\n",
    "# 이미지 확인 (PIL로 시각화)\n",
    "reconstructed_img_pil = TF.to_pil_image(reconstructed_img)\n",
    "reconstructed_img_pil.show()  # 바로 이미지를 열어 확인\n",
    "\n",
    "# 또는 Matplotlib로 채널별 시각화\n",
    "fig, axs = plt.subplots(1, 3, figsize=(15, 5))\n",
    "channels = ['R', 'G', 'B']\n",
    "for i, ax in enumerate(axs):\n",
    "    ax.imshow(reconstructed_img[i].cpu().numpy())\n",
    "    ax.set_title(f'{channels[i]} Channel')\n",
    "    ax.axis('off')\n",
    "plt.show()"
   ]
  },
  {
   "cell_type": "code",
   "execution_count": 19,
   "metadata": {},
   "outputs": [
    {
     "data": {
      "text/plain": [
       "torch.Size([1, 3, 64, 64])"
      ]
     },
     "execution_count": 19,
     "metadata": {},
     "output_type": "execute_result"
    }
   ],
   "source": [
    "reconstructed_obs['rgb'][0].shape"
   ]
  },
  {
   "cell_type": "code",
   "execution_count": null,
   "metadata": {},
   "outputs": [],
   "source": []
  }
 ],
 "metadata": {
  "kernelspec": {
   "display_name": "sheeprl",
   "language": "python",
   "name": "python3"
  },
  "language_info": {
   "codemirror_mode": {
    "name": "ipython",
    "version": 3
   },
   "file_extension": ".py",
   "mimetype": "text/x-python",
   "name": "python",
   "nbconvert_exporter": "python",
   "pygments_lexer": "ipython3",
   "version": "3.10.12"
  }
 },
 "nbformat": 4,
 "nbformat_minor": 2
}
